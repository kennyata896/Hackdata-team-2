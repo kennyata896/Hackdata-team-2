{
  "cells": [
    {
      "cell_type": "code",
      "execution_count": 2,
      "id": "1d2ecd8d-1951-4bbc-bd8e-d6a91c944548",
      "metadata": {
        "id": "1d2ecd8d-1951-4bbc-bd8e-d6a91c944548",
        "outputId": "9f278837-395b-4fea-8bb8-0c14ae713997",
        "colab": {
          "base_uri": "https://localhost:8080/"
        }
      },
      "outputs": [
        {
          "output_type": "stream",
          "name": "stdout",
          "text": [
            "hello\n"
          ]
        }
      ],
      "source": [
        "print ('hello')"
      ]
    },
    {
      "cell_type": "code",
      "execution_count": null,
      "id": "49267c82-1136-4e50-b307-b0640400ce94",
      "metadata": {
        "id": "49267c82-1136-4e50-b307-b0640400ce94"
      },
      "outputs": [],
      "source": []
    }
  ],
  "metadata": {
    "kernelspec": {
      "display_name": "Python [conda env:base] *",
      "language": "python",
      "name": "conda-base-py"
    },
    "language_info": {
      "codemirror_mode": {
        "name": "ipython",
        "version": 3
      },
      "file_extension": ".py",
      "mimetype": "text/x-python",
      "name": "python",
      "nbconvert_exporter": "python",
      "pygments_lexer": "ipython3",
      "version": "3.12.7"
    },
    "colab": {
      "provenance": []
    }
  },
  "nbformat": 4,
  "nbformat_minor": 5
}